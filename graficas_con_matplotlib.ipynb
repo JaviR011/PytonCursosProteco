{
 "cells": [
  {
   "cell_type": "markdown",
   "metadata": {},
   "source": [
    "# <span style=\"color:steelBlue\"> **Visualización de Datos con Matplotlib** </span>"
   ]
  },
  {
   "cell_type": "markdown",
   "metadata": {},
   "source": [
    "En este cuaderno se utiliza la biblioteca matplotlib para poder utilizar las herramientas de visualización de datos. Los temas que se abordarán son los siguientes:\n",
    "\n",
    "1. Gráficas de dispersión\n",
    "2. Gráficas poligonales\n",
    "3. Gráficas de barras\n",
    "4. Histogramas\n",
    "5. Gráficas de pastel\n",
    "6. Personalización de gráficas\n",
    "7. Leyendas\n",
    "8. Múltiples figuras\n",
    "9. Gráficas 3D\n",
    "\n",
    "Para comenzar, lo primero que se debe hacer es importar las bibliotecas necesarias."
   ]
  },
  {
   "cell_type": "code",
   "execution_count": null,
   "metadata": {},
   "outputs": [],
   "source": [
    "import numpy as np\n",
    "import matplotlib.pyplot as plt\n",
    "from matplotlib import style\n",
    "\n",
    "style.use(\"default\")"
   ]
  },
  {
   "cell_type": "markdown",
   "metadata": {},
   "source": [
    "Si al ejecutar la celda anterior el intérprete de Python retornó un error es porque los módulos `numpy` y `matplotlib` no están instalados. Para instalarlos se debe ejecutar la siguiente celda:"
   ]
  },
  {
   "cell_type": "code",
   "execution_count": null,
   "metadata": {},
   "outputs": [],
   "source": [
    "%pip install numpy pandas"
   ]
  },
  {
   "cell_type": "markdown",
   "metadata": {},
   "source": [
    "### <span style=\"color:FireBrick\">**Atención**</span>\n",
    "Una vez que se hayan instalado los módulos es necesario que se ejecute la celda de python, donde se hacen las importaciones."
   ]
  },
  {
   "cell_type": "markdown",
   "metadata": {},
   "source": [
    "## <span style=\"color:steelBlue\"> **Gráficas de Dispersión** </span>"
   ]
  },
  {
   "cell_type": "markdown",
   "metadata": {},
   "source": [
    "Para comenzar la generación de gráficas, es necesario contar con los datos que se quieren graficar.\n",
    "En este ejemplo, se generan dos vectores de número aleatorios. Uno para el eje X y otro para el eje Y."
   ]
  },
  {
   "cell_type": "code",
   "execution_count": null,
   "metadata": {},
   "outputs": [],
   "source": [
    "x = np.random.random(50) * 100\n",
    "y = np.random.random(50) * 100"
   ]
  },
  {
   "cell_type": "markdown",
   "metadata": {},
   "source": [
    "Posteriormente se genera la gráfica con el siguiente comando."
   ]
  },
  {
   "cell_type": "code",
   "execution_count": null,
   "metadata": {},
   "outputs": [],
   "source": [
    "plt.scatter(x,y)\n",
    "# plt.show() solo se utiliza en entornos diferentes a Jupyter para que se muestre la gráfica"
   ]
  },
  {
   "cell_type": "markdown",
   "metadata": {},
   "source": [
    "Scatter recibe varios parámetros, pero algunos de los más importantes son los siguientes:\n",
    "- `c`: Indica el color en hexadecimal o con [nombres predefinidos](https://matplotlib.org/stable/gallery/color/named_colors.html).\n",
    "- `s`: Indica el tamaño de los marcadores\n",
    "- `marker`: Indica el tipo de marcador se utiliza en los puntos.\n",
    "- `alpha`: Indica la transparencia del 1 al 0, donde 1 es opaco y 0 es transparente.\n",
    "\n",
    "Pongamos a prueba esto :3"
   ]
  },
  {
   "cell_type": "code",
   "execution_count": null,
   "metadata": {},
   "outputs": [],
   "source": [
    "plt.scatter(x,y, c=\"red\", s=300, marker='.', alpha=0.3)"
   ]
  },
  {
   "cell_type": "markdown",
   "metadata": {},
   "source": [
    "## <span style=\"color:steelBlue\"> **Gráficas Poligonales** </span>"
   ]
  },
  {
   "cell_type": "markdown",
   "metadata": {},
   "source": [
    "Supongamos que queremos graficar el peso de una persona a lo largo de los años. Para eso, tenemos que definir una lista para los años y para los pesos."
   ]
  },
  {
   "cell_type": "code",
   "execution_count": null,
   "metadata": {},
   "outputs": [],
   "source": [
    "años = np.array([2010 + x for x in range(10)])\n",
    "peso = np.array([29, 31, 33, 36, 38, 37, 40, 45, 49, 52])"
   ]
  },
  {
   "cell_type": "markdown",
   "metadata": {},
   "source": [
    "Con los datos previamente definidos se pueden graficar en una gráfica poligonal."
   ]
  },
  {
   "cell_type": "code",
   "execution_count": null,
   "metadata": {},
   "outputs": [],
   "source": [
    "plt.plot(años, peso)"
   ]
  },
  {
   "cell_type": "markdown",
   "metadata": {},
   "source": [
    "Al igual que con la gráfica de disperción, podemos configurar nuestra gráfica con la siguientes opciones.\n",
    "\n",
    "- `c`: Color\n",
    "- [`linestyle`](https://www.w3schools.com/python/matplotlib_line.asp): Estilo de línea\n",
    "- `lw`: Ancho de línea\n",
    "\n",
    "Las primeras 2 opciones se pueden reducir a una expresión, por ejemplo `r--` para color rojo y estilo de línea '--'."
   ]
  },
  {
   "cell_type": "code",
   "execution_count": null,
   "metadata": {},
   "outputs": [],
   "source": [
    "plt.plot(años,peso, c='red', linestyle='--', lw=3)"
   ]
  },
  {
   "cell_type": "markdown",
   "metadata": {},
   "source": [
    "## <span style=\"color:steelBlue\"> **Gráficas de Barras** </span>"
   ]
  },
  {
   "cell_type": "markdown",
   "metadata": {},
   "source": [
    "Para las gráficas de barras se definen las etiquetas de cada columna y los valores asociados:"
   ]
  },
  {
   "cell_type": "code",
   "execution_count": null,
   "metadata": {},
   "outputs": [],
   "source": [
    "x = np.array([\"Python\", \"C/C++\", \"Java\", \"Matlab\"])\n",
    "y = np.array([40, 30, 25, 5])"
   ]
  },
  {
   "cell_type": "code",
   "execution_count": null,
   "metadata": {},
   "outputs": [],
   "source": [
    "plt.bar(x,y)"
   ]
  },
  {
   "cell_type": "markdown",
   "metadata": {},
   "source": [
    "Nuevamente, este tipo de gráfica también tiene sus características opcionales:"
   ]
  },
  {
   "cell_type": "code",
   "execution_count": null,
   "metadata": {},
   "outputs": [],
   "source": [
    "plt.bar(x,y, color=\"#d42500\", align=\"edge\", width=0.7, edgecolor=\"#00afd4\", lw=6)"
   ]
  },
  {
   "cell_type": "markdown",
   "metadata": {},
   "source": [
    "- `color`: Recibe el código hexadecimal de un color o su nombre.\n",
    "- `align`: Solo se puede indicar `center` o `edge` para especificar dónde colocar la etiqueta de la columna.\n",
    "- `width`: Indica el ancho de la columna.\n",
    "- `edgecolor`: Indica el color (hex o nombre) del borde de la columna.\n",
    "- `lw`: Indica el ancho del borde de la columna."
   ]
  },
  {
   "cell_type": "markdown",
   "metadata": {},
   "source": [
    "## <span style=\"color:steelBlue\">**Histogramas**</span>"
   ]
  },
  {
   "cell_type": "markdown",
   "metadata": {},
   "source": [
    "Los histogramas son gráficas que permiten visualizar cómo están distribuidos los datos. Un ejemplo muy bueno de un histograma es la [máquina de Galton](https://es.wikipedia.org/wiki/M%C3%A1quina_de_Galton).\n",
    "\n",
    "<div align=\"center\">\n",
    "    <img src=\"https://upload.wikimedia.org/wikipedia/commons/c/c1/Galton_box.jpg\" style=\"height:400px\">\n",
    "</div>"
   ]
  },
  {
   "cell_type": "markdown",
   "metadata": {},
   "source": [
    "La máquina de Galton es una demostración visual de la distribución normal, mejor conocida como campana de Gauss -en realidad el primer registro de la distribución normal fue de Abraham de Moivre, no Gauss, pero la evidencia apunta a que el descubrimiento de Gauss de dicha distribución fue independiente.\n",
    "\n",
    "Hablando de distribuciones normales, visualicemos esta distribución en un histograma. Primero se deben generar números aleatorios que sigan esta distribución."
   ]
  },
  {
   "cell_type": "code",
   "execution_count": null,
   "metadata": {},
   "outputs": [],
   "source": [
    "edades = np.random.normal(20, 1.5, 100000)"
   ]
  },
  {
   "cell_type": "markdown",
   "metadata": {},
   "source": [
    "El primer parámetro de entrada del método `normal` es la media $\\mu$, el segundo parámetro es la desviación estándar $\\sigma$ y el tercer parámetro es el número de muestras que se quieren generar.\n",
    "\n",
    "Ahora se utiliza el histograma para visualizar la distribución de los datos."
   ]
  },
  {
   "cell_type": "code",
   "execution_count": null,
   "metadata": {},
   "outputs": [],
   "source": [
    "plt.hist(edades)"
   ]
  },
  {
   "cell_type": "markdown",
   "metadata": {},
   "source": [
    "Esto todavía está un poco lejos de parecerse a una distribución normal como la tenemos en nuestra mente. Para conseguir eso, podemos configurar nuestro histograma."
   ]
  },
  {
   "cell_type": "code",
   "execution_count": null,
   "metadata": {},
   "outputs": [],
   "source": [
    "plt.hist(edades,\n",
    "         bins=100)\n",
    "\n",
    "# bins también puede recibir una secuencia de valores en los que se ajustará el histograma."
   ]
  },
  {
   "cell_type": "markdown",
   "metadata": {},
   "source": [
    "`bins`: Indica el número de columnas en que se divide nuestro espacio muestral."
   ]
  },
  {
   "cell_type": "markdown",
   "metadata": {},
   "source": [
    "Otra herramienta muy útil en probabilidad y estadística es la visualización de la distribución acumulativa."
   ]
  },
  {
   "cell_type": "code",
   "execution_count": null,
   "metadata": {},
   "outputs": [],
   "source": [
    "plt.hist(edades, bins=100, cumulative=True)"
   ]
  },
  {
   "cell_type": "markdown",
   "metadata": {},
   "source": [
    "## <span style=\"color:steelBlue\"> **Gráfica de Pastel** </span>"
   ]
  },
  {
   "cell_type": "markdown",
   "metadata": {},
   "source": [
    "Para la gráfica de pastel, la configuración es muy similar a la configuración de un gráfico de barras. Primero se indican las etiquetas de cada porción del pastel, luego los valores asociados."
   ]
  },
  {
   "cell_type": "code",
   "execution_count": null,
   "metadata": {},
   "outputs": [],
   "source": [
    "langs = [\"Python\", \"C++\", \"Java\", \"C#\", \"Go\"]\n",
    "votes = [50, 25, 14, 6, 17]\n",
    "plt.pie(votes, labels=langs)"
   ]
  },
  {
   "cell_type": "markdown",
   "metadata": {},
   "source": [
    "Una opción muy interesante que se puede aplicar al gráfico de pastel es el parámetro `explodes`. Este parámetro recibe una lista que indica qué porción del pastel está separada y qué tan separada se encuentra.\n",
    "\n",
    "Por otro lado `autopct` imprime los porcentajes del pastel que ocupa cada etiqueta. Se puede indicar el formato del porcentaje con la siguiente expresión `%.2f%%`."
   ]
  },
  {
   "cell_type": "code",
   "execution_count": null,
   "metadata": {},
   "outputs": [],
   "source": [
    "explodes = [0,0,0,0.2,0]\n",
    "plt.pie(votes, labels=langs, explode=explodes, autopct=\"%.2f%%\")"
   ]
  },
  {
   "cell_type": "markdown",
   "metadata": {},
   "source": [
    "## <span style=\"color:steelBlue\"> **Personalización de Gráficas** </span>"
   ]
  },
  {
   "cell_type": "markdown",
   "metadata": {},
   "source": [
    "Hasta ahora hemos visto cómo configurar las gráficas de acuerdo a las particularidades de cada una. Sin embargo, no se ha abordado una parte fundamental: Indicar títulos, leyendas y aplicar estilos a nuestra gráfica."
   ]
  },
  {
   "cell_type": "markdown",
   "metadata": {},
   "source": [
    "Primero se importa el módulo `style` de la biblioteca `matplotlib` para poder tener acceso a [todos los estilos](https://matplotlib.org/stable/gallery/style_sheets/style_sheets_reference.html) que nos ofrece esta biblioteca."
   ]
  },
  {
   "cell_type": "code",
   "execution_count": null,
   "metadata": {},
   "outputs": [],
   "source": [
    "from matplotlib import style\n",
    "\n",
    "# Voy a utilizar el tema oscuro pq me gusta ese c:\n",
    "style.use(\"dark_background\")"
   ]
  },
  {
   "cell_type": "markdown",
   "metadata": {},
   "source": [
    "Luego defino los datos que voy a graficar. En este caso, se trata de los ingresos anuales de una persona."
   ]
  },
  {
   "cell_type": "code",
   "execution_count": null,
   "metadata": {},
   "outputs": [],
   "source": [
    "# Se utiliza la notación por comprensión para generar la lista de años\n",
    "años = [2014 + x for x in range(8)]\n",
    "ingresos = [55, 56, 62, 61, 72, 72, 63, 75]"
   ]
  },
  {
   "cell_type": "markdown",
   "metadata": {},
   "source": [
    "Ahora, se establecen los rangos en que se dividirá nuestro eje vertical de la siguiente forma:"
   ]
  },
  {
   "cell_type": "code",
   "execution_count": null,
   "metadata": {},
   "outputs": [],
   "source": [
    "division_ingresos = [x for x in range(50,80, 2)]"
   ]
  },
  {
   "cell_type": "markdown",
   "metadata": {},
   "source": [
    "Posteriormente se genera el objeto de gráfica con la función `plot`, donde se le pasan los valores del eje *x*, el eje *y* y la etiqueta `label` (más adelante verémos para que es este último parámetro).\n",
    "\n",
    "Finalmente, se agregan los títulos con las siguientes funciones del módulo `plt`.\n",
    "- `title`: Genera el título principal de nuestro gráfico. Se pueden indicar características adicionales como:\n",
    "  - `fontsize`: Tamaño de fuente\n",
    "  - `fontname`: Indicar tipos de fuente que estén instalados en el sistema.\n",
    "- `legend`: De acuerdo con la cadena que se le pasó al parámetro `label` de la función `plot`, se genera un cuadro para indicar el color y nombre de una gráfica (muy útil cuando se tienen muchas gráficas).\n",
    "- `xlabel`, `ylabel`: Indican las etiquetas para el eje *x* y el eje *y*, respectivamente.\n",
    "- `yticks`: Recibe la lista con los valores en que se dividirá el eje *y*, seguido de la lista de etiquetas para cada marca."
   ]
  },
  {
   "cell_type": "code",
   "execution_count": null,
   "metadata": {},
   "outputs": [],
   "source": [
    "plt.plot(años, ingresos, label='Ingresos')\n",
    "\n",
    "plt.title(\"Mis Ingresos (en MXN)\", fontsize=25, fontname=\"Latin Modern Roman\")\n",
    "plt.legend()\n",
    "plt.xlabel(\"Año\")\n",
    "plt.ylabel(\"Ingreso Anual en MXN\")\n",
    "\n",
    "plt.yticks(division_ingresos, [f\"{x}k MXN\" for x in division_ingresos])"
   ]
  },
  {
   "cell_type": "markdown",
   "metadata": {},
   "source": [
    "## <span style=\"color:steelBlue\"> **Gráficas 3D** </span>\n",
    "### <span style=\"color:lightSeaGreen\"> **Gráfica de Dispersión** </span>"
   ]
  },
  {
   "cell_type": "markdown",
   "metadata": {},
   "source": [
    "A lo largo de este apunte se vieron las diversas formas en que se pueden generar gráficas personalizadas con apoyo de la biblioteca matplotlib. Sin embargo, hasta ahora solo se han realizado gráficas en dos dimensiones. Matplotlib cuenta con módulos y métodos para hacer gráficas bidimensionales interactivas. A continuación, se verá cómo realizar este tipo de gráficas.\n",
    "\n",
    "Es importante mencionar que en *Jupyter Notebook* no es posible interactuar con las gráficas 3D. Para poder hacerlo, es necesario que el código se ejecute en un arhcivo con extensión *.py*.\n",
    "\n",
    "Para generar una gráfica 3D, lo primero que se tiene que definir es un handler para que almacene los ejes sobre los que se va a realizar la gráfica."
   ]
  },
  {
   "cell_type": "code",
   "execution_count": null,
   "metadata": {},
   "outputs": [],
   "source": [
    "style.use(\"default\")\n",
    "\n",
    "ax = plt.axes(projection=\"3d\")\n",
    "\n",
    "x = np.random.random(100)\n",
    "y = np.random.random(100)\n",
    "z = np.random.random(100)\n",
    "\n",
    "ax.scatter(x,y,z)\n",
    "ax.set_title(\"3D Plot\")"
   ]
  },
  {
   "cell_type": "markdown",
   "metadata": {},
   "source": [
    "Una vez que se generó el espacio de trabajo, se procede a definir los valores a graficar. En este caso, se utilizó la función `random` para generar 100 puntos aleatorios.\n",
    "\n",
    "Finalmente, se aplica el método `scatter` sobre el handler y se le pasan los valores de $x$, $y$ y $z$ a graficar. Por último, se coloca un título con el método `set_title`.\n",
    "\n",
    "### <span style=\"color:lightSeaGreen\"> **Superficies** </span>"
   ]
  },
  {
   "cell_type": "markdown",
   "metadata": {},
   "source": [
    "Una gráfica 3D interactiva siempre es atractiva, pero algo mucho más atractivo es una gráfica 3D interactiva de una superficie.\n",
    "\n",
    "Para generar una superficie interactiva, se realizan los siguientes pasos:"
   ]
  },
  {
   "cell_type": "code",
   "execution_count": null,
   "metadata": {},
   "outputs": [],
   "source": [
    "ax = plt.axes(projection=\"3d\")\n",
    "\n",
    "x = np.arange(-5,5,0.1)\n",
    "y = np.arange(-5,5,0.1)\n",
    "\n",
    "X, Y = np.meshgrid(x,y)\n",
    "\n",
    "Z = np.sin(X) * np.cos(Y)\n",
    "\n",
    "ax.plot_surface(X,Y,Z, cmap=\"Spectral\")\n",
    "ax.set_title(\"3D Plot\")"
   ]
  },
  {
   "cell_type": "markdown",
   "metadata": {},
   "source": [
    "Al igual que en la gráfica 2D, primero se define el handler `ax` para nuestro espacio de trabajo. Luego, se definen los intervalos de nuestro espacio (`x` y `y`).\n",
    "\n",
    "Después, se asigna a `X` y `Y` los valores válidos para nuestro espacio de trabajo mediante la función `meshgrid`, que genera la cuadrícula bidimensional.\n",
    "\n",
    "Posteriormente, se establece la relación que guardan las variables `X` y `Y` respecto a la variable a graficar (`Z`).\n",
    "\n",
    "Por último, se grafican los datos con la función `plot_surface` y se pasan como argumentos las variables `X`, `Y` y `Z` y el formato de coloreo tipo espectral con `cmap=\"Spectral\"`. Se le agrega el título con el método `set_title`."
   ]
  }
 ],
 "metadata": {
  "kernelspec": {
   "display_name": "Python 3",
   "language": "python",
   "name": "python3"
  },
  "language_info": {
   "codemirror_mode": {
    "name": "ipython",
    "version": 3
   },
   "file_extension": ".py",
   "mimetype": "text/x-python",
   "name": "python",
   "nbconvert_exporter": "python",
   "pygments_lexer": "ipython3",
   "version": "3.10.7"
  },
  "orig_nbformat": 4
 },
 "nbformat": 4,
 "nbformat_minor": 2
}
