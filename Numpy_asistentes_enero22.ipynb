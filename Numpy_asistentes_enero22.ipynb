{
 "cells": [
  {
   "cell_type": "code",
   "execution_count": 116,
   "metadata": {},
   "outputs": [],
   "source": [
    "import numpy as np"
   ]
  },
  {
   "cell_type": "code",
   "execution_count": 117,
   "metadata": {},
   "outputs": [
    {
     "name": "stdout",
     "output_type": "stream",
     "text": [
      "[1 2 3 4]\n"
     ]
    },
    {
     "data": {
      "text/plain": [
       "numpy.ndarray"
      ]
     },
     "execution_count": 117,
     "metadata": {},
     "output_type": "execute_result"
    }
   ],
   "source": [
    "arreglo=np.array([1,2,3,4])\n",
    "print(arreglo)\n",
    "type(arreglo)"
   ]
  },
  {
   "cell_type": "code",
   "execution_count": 23,
   "metadata": {},
   "outputs": [
    {
     "name": "stdout",
     "output_type": "stream",
     "text": [
      "[1 2 3 4] \n",
      "\n",
      "[[1 2]\n",
      " [3 4]] \n",
      "\n",
      "[[[1 2]\n",
      "  [3 4]]\n",
      "\n",
      " [[5 6]\n",
      "  [7 8]]]\n"
     ]
    }
   ],
   "source": [
    "d1=np.array([1,2,3,4])\n",
    "\n",
    "d2=np.array([[1,2],\n",
    "             [3,4]])\n",
    "\n",
    "d3=np.array([[[1,2],\n",
    "              [3,4]],\n",
    "             \n",
    "             [[5,6],\n",
    "              [7,8]]])\n",
    "\n",
    "\n",
    "\n",
    "print(d1,'\\n')\n",
    "\n",
    "print(d2,'\\n')\n",
    "\n",
    "print(d3)"
   ]
  },
  {
   "cell_type": "markdown",
   "metadata": {},
   "source": [
    "## Atributos"
   ]
  },
  {
   "cell_type": "code",
   "execution_count": 24,
   "metadata": {},
   "outputs": [
    {
     "name": "stdout",
     "output_type": "stream",
     "text": [
      "1\n",
      "2\n",
      "3\n"
     ]
    }
   ],
   "source": [
    "#nos retorna el no. de dimensiones\n",
    "print(d1.ndim)\n",
    "print(d2.ndim)\n",
    "print(d3.ndim)"
   ]
  },
  {
   "cell_type": "code",
   "execution_count": 25,
   "metadata": {},
   "outputs": [
    {
     "name": "stdout",
     "output_type": "stream",
     "text": [
      "(4,)\n",
      "(2, 2)\n",
      "(2, 2, 2)\n"
     ]
    }
   ],
   "source": [
    "#Nos retorna tupla con el len() de dimensiones (bloque,filas, columnas)\n",
    "print(d1.shape)\n",
    "print(d2.shape)\n",
    "print(d3.shape)"
   ]
  },
  {
   "cell_type": "code",
   "execution_count": 26,
   "metadata": {},
   "outputs": [
    {
     "name": "stdout",
     "output_type": "stream",
     "text": [
      "4\n",
      "4\n",
      "8\n"
     ]
    }
   ],
   "source": [
    "#No de elementos\n",
    "print(d1.size)\n",
    "print(d2.size)\n",
    "print(d3.size)"
   ]
  },
  {
   "cell_type": "code",
   "execution_count": 29,
   "metadata": {},
   "outputs": [
    {
     "name": "stdout",
     "output_type": "stream",
     "text": [
      "(2, 2, 3)\n",
      "(3, 2, 2)\n"
     ]
    }
   ],
   "source": [
    "## Ejercicio 1: crear un array que tenga un shape (2,2,3)\n",
    "arreglo=np.array([[[1,2,1],\n",
    "              [3,4,1]],\n",
    "             \n",
    "             [[5,6,1],\n",
    "              [7,8,1]]])\n",
    "\n",
    "print(arreglo.shape)\n",
    "\n",
    "\n",
    "d4=np.array([[[1,2]\n",
    "              ,[3,4]],\n",
    "             \n",
    "             [[5,6],\n",
    "              [7,8]],\n",
    "             \n",
    "             [[9,10],\n",
    "              [11,12]]])\n",
    "print(d4.shape)\n"
   ]
  },
  {
   "cell_type": "markdown",
   "metadata": {},
   "source": [
    "## arange vs linspace"
   ]
  },
  {
   "cell_type": "code",
   "execution_count": 35,
   "metadata": {},
   "outputs": [
    {
     "name": "stdout",
     "output_type": "stream",
     "text": [
      "[10.  10.5 11.  11.5 12.  12.5 13.  13.5 14.  14.5 15.  15.5 16.  16.5\n",
      " 17.  17.5 18.  18.5 19.  19.5 20.  20.5 21.  21.5 22.  22.5 23.  23.5\n",
      " 24.  24.5 25.  25.5 26.  26.5 27.  27.5 28.  28.5 29.  29.5 30.  30.5\n",
      " 31.  31.5 32.  32.5 33.  33.5 34.  34.5 35.  35.5 36.  36.5 37.  37.5\n",
      " 38.  38.5 39.  39.5 40.  40.5 41.  41.5 42.  42.5 43.  43.5 44.  44.5\n",
      " 45.  45.5 46.  46.5 47.  47.5 48.  48.5 49.  49.5]\n"
     ]
    }
   ],
   "source": [
    "#arange\n",
    "\n",
    "#Toma como inicio por defecto el 0\n",
    "ara=np.arange(10)\n",
    "\n",
    "#Crea secuencia sin tomar el limite\n",
    "ara=np.arange(5,10)\n",
    "\n",
    "#Tercer argumento define el PASO\n",
    "ara=np.arange(10,50,.5)\n",
    "\n",
    "print(ara)"
   ]
  },
  {
   "cell_type": "code",
   "execution_count": 38,
   "metadata": {},
   "outputs": [
    {
     "name": "stdout",
     "output_type": "stream",
     "text": [
      "[ 0.          0.40816327  0.81632653  1.2244898   1.63265306  2.04081633\n",
      "  2.44897959  2.85714286  3.26530612  3.67346939  4.08163265  4.48979592\n",
      "  4.89795918  5.30612245  5.71428571  6.12244898  6.53061224  6.93877551\n",
      "  7.34693878  7.75510204  8.16326531  8.57142857  8.97959184  9.3877551\n",
      "  9.79591837 10.20408163 10.6122449  11.02040816 11.42857143 11.83673469\n",
      " 12.24489796 12.65306122 13.06122449 13.46938776 13.87755102 14.28571429\n",
      " 14.69387755 15.10204082 15.51020408 15.91836735 16.32653061 16.73469388\n",
      " 17.14285714 17.55102041 17.95918367 18.36734694 18.7755102  19.18367347\n",
      " 19.59183673 20.        ]\n",
      "50\n"
     ]
    }
   ],
   "source": [
    "#linspace\n",
    "\n",
    "li=np.linspace(0,20)\n",
    "print(li)\n",
    "\n",
    "print(len(li))"
   ]
  },
  {
   "cell_type": "code",
   "execution_count": 52,
   "metadata": {},
   "outputs": [
    {
     "name": "stdout",
     "output_type": "stream",
     "text": [
      "[10. 20.]\n"
     ]
    }
   ],
   "source": [
    "li=np.linspace(10,20,2)\n",
    "print(li)"
   ]
  },
  {
   "cell_type": "code",
   "execution_count": 54,
   "metadata": {},
   "outputs": [
    {
     "name": "stdout",
     "output_type": "stream",
     "text": [
      "[10. 20.]\n",
      "[10 12 14 16 18]\n"
     ]
    }
   ],
   "source": [
    "li=np.linspace(10,20,2)\n",
    "ara=np.arange(10,20,2)\n",
    "print(li)\n",
    "print(ara)"
   ]
  },
  {
   "cell_type": "markdown",
   "metadata": {},
   "source": [
    "## Funciones para crear arrays"
   ]
  },
  {
   "cell_type": "code",
   "execution_count": 56,
   "metadata": {},
   "outputs": [
    {
     "name": "stdout",
     "output_type": "stream",
     "text": [
      "[[[0. 0. 0.]\n",
      "  [0. 0. 0.]]\n",
      "\n",
      " [[0. 0. 0.]\n",
      "  [0. 0. 0.]]\n",
      "\n",
      " [[0. 0. 0.]\n",
      "  [0. 0. 0.]]\n",
      "\n",
      " [[0. 0. 0.]\n",
      "  [0. 0. 0.]]]\n"
     ]
    }
   ],
   "source": [
    "cero=np.zeros((4,2,3))\n",
    "\n",
    "print(cero)"
   ]
  },
  {
   "cell_type": "code",
   "execution_count": 57,
   "metadata": {},
   "outputs": [
    {
     "name": "stdout",
     "output_type": "stream",
     "text": [
      "[[[1. 1. 1.]\n",
      "  [1. 1. 1.]]\n",
      "\n",
      " [[1. 1. 1.]\n",
      "  [1. 1. 1.]]\n",
      "\n",
      " [[1. 1. 1.]\n",
      "  [1. 1. 1.]]\n",
      "\n",
      " [[1. 1. 1.]\n",
      "  [1. 1. 1.]]]\n"
     ]
    }
   ],
   "source": [
    "unos=np.ones((4,2,3))\n",
    "\n",
    "print(unos)"
   ]
  },
  {
   "cell_type": "code",
   "execution_count": 58,
   "metadata": {},
   "outputs": [
    {
     "data": {
      "text/plain": [
       "array([[1., 0., 0., 0., 0., 0., 0., 0., 0., 0.],\n",
       "       [0., 1., 0., 0., 0., 0., 0., 0., 0., 0.],\n",
       "       [0., 0., 1., 0., 0., 0., 0., 0., 0., 0.],\n",
       "       [0., 0., 0., 1., 0., 0., 0., 0., 0., 0.],\n",
       "       [0., 0., 0., 0., 1., 0., 0., 0., 0., 0.],\n",
       "       [0., 0., 0., 0., 0., 1., 0., 0., 0., 0.],\n",
       "       [0., 0., 0., 0., 0., 0., 1., 0., 0., 0.],\n",
       "       [0., 0., 0., 0., 0., 0., 0., 1., 0., 0.],\n",
       "       [0., 0., 0., 0., 0., 0., 0., 0., 1., 0.],\n",
       "       [0., 0., 0., 0., 0., 0., 0., 0., 0., 1.]])"
      ]
     },
     "execution_count": 58,
     "metadata": {},
     "output_type": "execute_result"
    }
   ],
   "source": [
    "iden=np.identity(10)\n",
    "iden"
   ]
  },
  {
   "cell_type": "code",
   "execution_count": 59,
   "metadata": {},
   "outputs": [
    {
     "name": "stdout",
     "output_type": "stream",
     "text": [
      "[[1 2 3]\n",
      " [1 2 3]]\n"
     ]
    }
   ],
   "source": [
    "fu=np.full((2,3),(1,2,3))\n",
    "print(fu)"
   ]
  },
  {
   "cell_type": "code",
   "execution_count": 61,
   "metadata": {},
   "outputs": [
    {
     "name": "stdout",
     "output_type": "stream",
     "text": [
      "[0.7225511  0.16310028 0.58122919]\n"
     ]
    }
   ],
   "source": [
    "al=np.random.random((3))\n",
    "print(al)"
   ]
  },
  {
   "cell_type": "markdown",
   "metadata": {},
   "source": [
    "## Funciones para vectores"
   ]
  },
  {
   "cell_type": "code",
   "execution_count": 80,
   "metadata": {},
   "outputs": [
    {
     "name": "stdout",
     "output_type": "stream",
     "text": [
      "Elemento mayor 89\n",
      "Elemento menor -10\n",
      "Desviación estandar 29.841246622753548\n",
      "Suma de los elementos 10\n",
      "Indice del elemento mayor 7\n",
      "Indice del elemento menor 0\n"
     ]
    }
   ],
   "source": [
    "vct=np.array([-10,-2,-1,0,1,4,7,89])\n",
    "\n",
    "d2=np.array([[1,2],\n",
    "             [3,4]])\n",
    "\n",
    "print('Elemento mayor',vct.max())\n",
    "print('Elemento menor',vct.min())\n",
    "print('Desviación estandar',vct.std())\n",
    "print('Suma de los elementos',d2.sum())\n",
    "print('Indice del elemento mayor',np.argmax(vct))\n",
    "print('Indice del elemento menor',vct.argmin())\n"
   ]
  },
  {
   "cell_type": "markdown",
   "metadata": {},
   "source": [
    "## Operadores de vectores"
   ]
  },
  {
   "cell_type": "code",
   "execution_count": 85,
   "metadata": {},
   "outputs": [
    {
     "name": "stdout",
     "output_type": "stream",
     "text": [
      "La suma [2 3 4]\n",
      "Producto uno a uno [1 2 3]\n",
      "Producto punto 6\n",
      "Producto con un escalar [10 20 30]\n",
      "Producto cruz [-1  2 -1]\n"
     ]
    }
   ],
   "source": [
    "vct1=np.array([1,2,3])\n",
    "\n",
    "vct2=np.array([1,1,1])\n",
    "\n",
    "print('La suma', vct1+vct2)\n",
    "print('Producto uno a uno',vct1*vct2)\n",
    "print('Producto punto',vct1@vct2)\n",
    "print('Producto con un escalar',vct1*10)\n",
    "print('Producto cruz',np.cross(vct1,vct2))\n"
   ]
  },
  {
   "cell_type": "markdown",
   "metadata": {},
   "source": [
    "## Matrices"
   ]
  },
  {
   "cell_type": "code",
   "execution_count": 101,
   "metadata": {},
   "outputs": [
    {
     "name": "stdout",
     "output_type": "stream",
     "text": [
      "Elementos de renglon/fila 1 [7 8 9]\n",
      "Accediendo a un elemento 9\n",
      "Accediendo a un elemento 9\n",
      "Elementos de la columna 2 [1 7 5]\n"
     ]
    }
   ],
   "source": [
    "mtz=[[1,2,3],[4,5,6],[7,8,9]]\n",
    "\n",
    "#mtz = np.array([1,2,3],[4,5,6],[7,8,9])\n",
    "\n",
    "mt=np.array([[1,2,3],\n",
    "             [7,8,9],\n",
    "             [5,6,7]])\n",
    "\n",
    "print('Elementos de renglon/fila 1',mt[1])\n",
    "print('Accediendo a un elemento',mt[1][2])\n",
    "print('Accediendo a un elemento',mt[1,2])\n",
    "print('Elementos de la columna 2',mt[:,0])\n",
    "\n"
   ]
  },
  {
   "cell_type": "markdown",
   "metadata": {},
   "source": [
    "## Operadores de matrices"
   ]
  },
  {
   "cell_type": "code",
   "execution_count": 110,
   "metadata": {},
   "outputs": [
    {
     "name": "stdout",
     "output_type": "stream",
     "text": [
      "Suma matricial\n",
      " [[ 2.  2.  3.]\n",
      " [ 4.  6.  6.]\n",
      " [ 7.  8. 10.]]\n",
      "Producto matricial\n",
      " [[1. 2. 3.]\n",
      " [4. 5. 6.]\n",
      " [7. 8. 9.]]\n",
      "Producto escalar\n",
      " [[10 20 30]\n",
      " [40 50 60]\n",
      " [70 80 90]]\n"
     ]
    }
   ],
   "source": [
    "mt=np.array([[1,2,3],\n",
    "             [4,5,6],\n",
    "             [7,8,9]])\n",
    "\n",
    "mt2=np.eye(3)\n",
    "\n",
    "print('Suma matricial\\n',mt+mt2)\n",
    "print('Producto matricial\\n',mt@mt2)\n",
    "print('Producto escalar\\n',mt*10)\n"
   ]
  },
  {
   "cell_type": "markdown",
   "metadata": {},
   "source": [
    "## Funciones de algebra lineal"
   ]
  },
  {
   "cell_type": "code",
   "execution_count": 111,
   "metadata": {},
   "outputs": [
    {
     "name": "stdout",
     "output_type": "stream",
     "text": [
      "Transpuest de x\n",
      " [[1 3]\n",
      " [2 5]]\n",
      "Inversa\n",
      " [[-5.  2.]\n",
      " [ 3. -1.]]\n",
      "Determinante -1.0000000000000004\n",
      "Vector a partir de mtz5 es:  [1 2 3 5]\n"
     ]
    }
   ],
   "source": [
    "mtz5=np.array([[1,2],\n",
    "               [3,5]])\n",
    "\n",
    "print(\"Transpuest de x\\n\",mtz5.T)\n",
    "print(\"Inversa\\n\",np.linalg.inv(mtz5))\n",
    "print(\"Determinante\",np.linalg.det(mtz5))\n",
    "print(\"Vector a partir de mtz5 es: \",mtz5.flatten())"
   ]
  },
  {
   "cell_type": "markdown",
   "metadata": {},
   "source": [
    "# Matplotlib"
   ]
  },
  {
   "cell_type": "code",
   "execution_count": 115,
   "metadata": {},
   "outputs": [],
   "source": [
    "import matplotlib.pyplot as plt"
   ]
  },
  {
   "cell_type": "code",
   "execution_count": 114,
   "metadata": {},
   "outputs": [
    {
     "data": {
      "image/png": "[encoded data removed]",
      "text/plain": [
       "<Figure size 432x288 with 1 Axes>"
      ]
     },
     "metadata": {
      "needs_background": "light"
     },
     "output_type": "display_data"
    }
   ],
   "source": [
    "x=np.arange(1,10,.5)\n",
    "y=np.arange(1,10,.5)\n",
    "\n",
    "plt.plot(x,y)\n",
    "\n",
    "plt.show()"
   ]
  },
  {
   "cell_type": "code",
   "execution_count": 128,
   "metadata": {},
   "outputs": [
    {
     "data": {
      "image/png": "[encoded data removed]",
      "text/plain": [
       "<Figure size 432x288 with 1 Axes>"
      ]
     },
     "metadata": {
      "needs_background": "light"
     },
     "output_type": "display_data"
    }
   ],
   "source": [
    "x=np.arange(0,5,.2)\n",
    "y=x**2\n",
    "y2=x**3\n",
    "y3=x\n",
    "\n",
    "plt.plot(x,y)\n",
    "plt.plot(x,y2)\n",
    "plt.plot(x,y3)\n",
    "\n",
    "plt.show()"
   ]
  },
  {
   "cell_type": "markdown",
   "metadata": {},
   "source": [
    "## Personalizando mi grafica"
   ]
  },
  {
   "cell_type": "code",
   "execution_count": 136,
   "metadata": {},
   "outputs": [
    {
     "data": {
      "image/png": "[encoded data removed]",
      "text/plain": [
       "<Figure size 432x288 with 1 Axes>"
      ]
     },
     "metadata": {
      "needs_background": "light"
     },
     "output_type": "display_data"
    }
   ],
   "source": [
    "x=np.arange(1,10,.5)\n",
    "y=x\n",
    "\n",
    "plt.plot(x,y,marker='o',color='#C24BE5',linestyle='--')\n",
    "\n",
    "plt.xlabel('Eje x')\n",
    "plt.ylabel('Eje y')\n",
    "\n",
    "plt.title('Mi primer gráfica person.')\n",
    "\n",
    "plt.show()"
   ]
  },
  {
   "cell_type": "code",
   "execution_count": 153,
   "metadata": {},
   "outputs": [
    {
     "data": {
      "image/png": "[encoded data removed]",
      "text/plain": [
       "<Figure size 432x288 with 1 Axes>"
      ]
     },
     "metadata": {
      "needs_background": "light"
     },
     "output_type": "display_data"
    }
   ],
   "source": [
    "x=np.arange(1,7,1)\n",
    "\n",
    "anio1=np.array([6,7,6,10,9,0])\n",
    "anio2=np.array([10,9,7,9,10,10])\n",
    "\n",
    "plt.plot(x,anio1,marker='o',linestyle='--',label='Calificaciones 2021')\n",
    "plt.plot(x,anio2,marker='o',linestyle='--',label='Calificaciones 2020')\n",
    "\n",
    "plt.grid()\n",
    "\n",
    "plt.legend(loc='right')\n",
    "#plt.legend(loc='d')\n",
    "\n",
    "plt.show()"
   ]
  },
  {
   "cell_type": "markdown",
   "metadata": {},
   "source": [
    "## Bar Plots"
   ]
  },
  {
   "cell_type": "code",
   "execution_count": 155,
   "metadata": {},
   "outputs": [
    {
     "data": {
      "image/png": "[encoded data removed]",
      "text/plain": [
       "<Figure size 432x288 with 1 Axes>"
      ]
     },
     "metadata": {
      "needs_background": "light"
     },
     "output_type": "display_data"
    }
   ],
   "source": [
    "carrera=np.array(['Quimica','Ciencias','Infromatica','Biologia','Ingenieria'])\n",
    "asistencia=np.array([3,9,2,6,1])\n",
    "\n",
    "plt.bar(carrera,asistencia)\n",
    "\n",
    "plt.show()"
   ]
  },
  {
   "cell_type": "markdown",
   "metadata": {},
   "source": [
    "## PieCharts"
   ]
  },
  {
   "cell_type": "code",
   "execution_count": 159,
   "metadata": {},
   "outputs": [
    {
     "data": {
      "image/png": "[encoded data removed]",
      "text/plain": [
       "<Figure size 432x288 with 1 Axes>"
      ]
     },
     "metadata": {},
     "output_type": "display_data"
    }
   ],
   "source": [
    "plt.pie(asistencia,labels=carrera,autopct='%.2f%%')\n",
    "\n",
    "plt.show()"
   ]
  },
  {
   "cell_type": "markdown",
   "metadata": {},
   "source": [
    "## Scater"
   ]
  },
  {
   "cell_type": "code",
   "execution_count": 178,
   "metadata": {},
   "outputs": [
    {
     "data": {
      "image/png": "[encoded data removed]",
      "text/plain": [
       "<Figure size 432x288 with 1 Axes>"
      ]
     },
     "metadata": {
      "needs_background": "light"
     },
     "output_type": "display_data"
    }
   ],
   "source": [
    "x=np.arange(30)\n",
    "y=np.random.random(30)*10\n",
    "\n",
    "plt.scatter(x,y)\n",
    "\n",
    "plt.savefig('ho.png')\n",
    "\n",
    "plt.show()"
   ]
  },
  {
   "cell_type": "markdown",
   "metadata": {},
   "source": [
    "## Subplots"
   ]
  },
  {
   "cell_type": "code",
   "execution_count": 171,
   "metadata": {},
   "outputs": [
    {
     "data": {
      "image/png": "[encoded data removed]",
      "text/plain": [
       "<Figure size 864x576 with 4 Axes>"
      ]
     },
     "metadata": {
      "needs_background": "light"
     },
     "output_type": "display_data"
    }
   ],
   "source": [
    "fig,((g1,g2),(g3,g4))=plt.subplots(2,2, figsize=(12,8))\n",
    "\n",
    "g1.bar(carrera, asistencia)\n",
    "\n",
    "g2.scatter(carrera,asistencia)\n",
    "\n",
    "g3.plot(carrera,asistencia)\n",
    "\n",
    "g4.pie(asistencia,labels=carrera)\n",
    "\n",
    "plt.show()"
   ]
  },
  {
   "cell_type": "code",
   "execution_count": 175,
   "metadata": {},
   "outputs": [
    {
     "data": {
      "text/html": [
       "<div>\n",
       "<style scoped>\n",
       "    .dataframe tbody tr th:only-of-type {\n",
       "        vertical-align: middle;\n",
       "    }\n",
       "\n",
       "    .dataframe tbody tr th {\n",
       "        vertical-align: top;\n",
       "    }\n",
       "\n",
       "    .dataframe thead th {\n",
       "        text-align: right;\n",
       "    }\n",
       "</style>\n",
       "<table border=\"1\" class=\"dataframe\">\n",
       "  <thead>\n",
       "    <tr style=\"text-align: right;\">\n",
       "      <th></th>\n",
       "      <th>GRUPOS SIN VACANTES</th>\n",
       "      <th>Unnamed: 1</th>\n",
       "      <th>Unnamed: 2</th>\n",
       "      <th>Unnamed: 3</th>\n",
       "      <th>Unnamed: 4</th>\n",
       "      <th>Unnamed: 5</th>\n",
       "      <th>Unnamed: 6</th>\n",
       "      <th>Unnamed: 7</th>\n",
       "      <th>Unnamed: 8</th>\n",
       "    </tr>\n",
       "  </thead>\n",
       "  <tbody>\n",
       "    <tr>\n",
       "      <th>0</th>\n",
       "      <td>Clave</td>\n",
       "      <td>Gpo</td>\n",
       "      <td>Profesor</td>\n",
       "      <td>Tipo</td>\n",
       "      <td>Horario</td>\n",
       "      <td>Días</td>\n",
       "      <td>Salón</td>\n",
       "      <td>Cupo</td>\n",
       "      <td>Vacantes</td>\n",
       "    </tr>\n",
       "    <tr>\n",
       "      <th>1</th>\n",
       "      <td>1734</td>\n",
       "      <td>1</td>\n",
       "      <td>ING. HECTOR SANCHEZ SANCHEZ</td>\n",
       "      <td>T</td>\n",
       "      <td>07:00 a 09:00</td>\n",
       "      <td>Lun, Mie</td>\n",
       "      <td>D002</td>\n",
       "      <td>35</td>\n",
       "      <td>0</td>\n",
       "    </tr>\n",
       "    <tr>\n",
       "      <th>2</th>\n",
       "      <td>1734</td>\n",
       "      <td>2</td>\n",
       "      <td>M.I. ALEJANDRO GONZALEZ ELIZONDO</td>\n",
       "      <td>T</td>\n",
       "      <td>11:00 a 13:00</td>\n",
       "      <td>Lun, Mie</td>\n",
       "      <td>B203</td>\n",
       "      <td>35</td>\n",
       "      <td>0</td>\n",
       "    </tr>\n",
       "    <tr>\n",
       "      <th>3</th>\n",
       "      <td>1734</td>\n",
       "      <td>3</td>\n",
       "      <td>ING. ALBERTO FERNANDO LIEBIG FRAUSTO</td>\n",
       "      <td>T</td>\n",
       "      <td>09:00 a 11:00</td>\n",
       "      <td>Mar, Jue</td>\n",
       "      <td>B104</td>\n",
       "      <td>35</td>\n",
       "      <td>0</td>\n",
       "    </tr>\n",
       "    <tr>\n",
       "      <th>4</th>\n",
       "      <td>1734</td>\n",
       "      <td>4</td>\n",
       "      <td>ING. MARIA JAQUELINE GUADARRAMA LIHO</td>\n",
       "      <td>T</td>\n",
       "      <td>13:00 a 15:00</td>\n",
       "      <td>Mar, Jue</td>\n",
       "      <td>A109</td>\n",
       "      <td>35</td>\n",
       "      <td>0</td>\n",
       "    </tr>\n",
       "    <tr>\n",
       "      <th>5</th>\n",
       "      <td>1734</td>\n",
       "      <td>5</td>\n",
       "      <td>ING. GUMERSINDO ALEJANDRO OYARZABAL CAMACHO</td>\n",
       "      <td>T</td>\n",
       "      <td>18:00 a 20:00</td>\n",
       "      <td>Mar, Jue</td>\n",
       "      <td>D001</td>\n",
       "      <td>35</td>\n",
       "      <td>0</td>\n",
       "    </tr>\n",
       "    <tr>\n",
       "      <th>6</th>\n",
       "      <td>1734</td>\n",
       "      <td>6</td>\n",
       "      <td>ING. FRANCISCO BUSTOS CAMARGO</td>\n",
       "      <td>T</td>\n",
       "      <td>20:00 a 22:00</td>\n",
       "      <td>Lun, Mie</td>\n",
       "      <td>B303</td>\n",
       "      <td>35</td>\n",
       "      <td>0</td>\n",
       "    </tr>\n",
       "    <tr>\n",
       "      <th>7</th>\n",
       "      <td>1734</td>\n",
       "      <td>7</td>\n",
       "      <td>ING. JAIME YAEL PEREZ DIAZ</td>\n",
       "      <td>T</td>\n",
       "      <td>20:00 a 22:00</td>\n",
       "      <td>Mar, Jue</td>\n",
       "      <td>B302</td>\n",
       "      <td>35</td>\n",
       "      <td>0</td>\n",
       "    </tr>\n",
       "    <tr>\n",
       "      <th>8</th>\n",
       "      <td>1734</td>\n",
       "      <td>8</td>\n",
       "      <td>ING. EDUARDO FELIPE DE JESUS ORDIALES YURRITA</td>\n",
       "      <td>T</td>\n",
       "      <td>15:00 a 17:00</td>\n",
       "      <td>Mar, Jue</td>\n",
       "      <td>B105</td>\n",
       "      <td>35</td>\n",
       "      <td>0</td>\n",
       "    </tr>\n",
       "    <tr>\n",
       "      <th>9</th>\n",
       "      <td>1734</td>\n",
       "      <td>9</td>\n",
       "      <td>M.I. JOSE ALFREDO CABALLERO MARQUEZ</td>\n",
       "      <td>T</td>\n",
       "      <td>08:00 a 12:00</td>\n",
       "      <td>Sab</td>\n",
       "      <td>Y003</td>\n",
       "      <td>35</td>\n",
       "      <td>0</td>\n",
       "    </tr>\n",
       "    <tr>\n",
       "      <th>10</th>\n",
       "      <td>1734</td>\n",
       "      <td>10</td>\n",
       "      <td>DR. JORGE LUIS ROJAS ARCE</td>\n",
       "      <td>T</td>\n",
       "      <td>13:00 a 15:00</td>\n",
       "      <td>Mar, Jue</td>\n",
       "      <td>Y003</td>\n",
       "      <td>35</td>\n",
       "      <td>0</td>\n",
       "    </tr>\n",
       "  </tbody>\n",
       "</table>\n",
       "</div>"
      ],
      "text/plain": [
       "   GRUPOS SIN VACANTES Unnamed: 1  \\\n",
       "0                Clave        Gpo   \n",
       "1                 1734          1   \n",
       "2                 1734          2   \n",
       "3                 1734          3   \n",
       "4                 1734          4   \n",
       "5                 1734          5   \n",
       "6                 1734          6   \n",
       "7                 1734          7   \n",
       "8                 1734          8   \n",
       "9                 1734          9   \n",
       "10                1734         10   \n",
       "\n",
       "                                       Unnamed: 2 Unnamed: 3     Unnamed: 4  \\\n",
       "0                                        Profesor       Tipo        Horario   \n",
       "1                     ING. HECTOR SANCHEZ SANCHEZ          T  07:00 a 09:00   \n",
       "2                M.I. ALEJANDRO GONZALEZ ELIZONDO          T  11:00 a 13:00   \n",
       "3            ING. ALBERTO FERNANDO LIEBIG FRAUSTO          T  09:00 a 11:00   \n",
       "4            ING. MARIA JAQUELINE GUADARRAMA LIHO          T  13:00 a 15:00   \n",
       "5     ING. GUMERSINDO ALEJANDRO OYARZABAL CAMACHO          T  18:00 a 20:00   \n",
       "6                   ING. FRANCISCO BUSTOS CAMARGO          T  20:00 a 22:00   \n",
       "7                      ING. JAIME YAEL PEREZ DIAZ          T  20:00 a 22:00   \n",
       "8   ING. EDUARDO FELIPE DE JESUS ORDIALES YURRITA          T  15:00 a 17:00   \n",
       "9             M.I. JOSE ALFREDO CABALLERO MARQUEZ          T  08:00 a 12:00   \n",
       "10                      DR. JORGE LUIS ROJAS ARCE          T  13:00 a 15:00   \n",
       "\n",
       "   Unnamed: 5 Unnamed: 6 Unnamed: 7 Unnamed: 8  \n",
       "0        Días      Salón       Cupo   Vacantes  \n",
       "1    Lun, Mie       D002         35          0  \n",
       "2    Lun, Mie       B203         35          0  \n",
       "3    Mar, Jue       B104         35          0  \n",
       "4    Mar, Jue       A109         35          0  \n",
       "5    Mar, Jue       D001         35          0  \n",
       "6    Lun, Mie       B303         35          0  \n",
       "7    Mar, Jue       B302         35          0  \n",
       "8    Mar, Jue       B105         35          0  \n",
       "9         Sab       Y003         35          0  \n",
       "10   Mar, Jue       Y003         35          0  "
      ]
     },
     "execution_count": 175,
     "metadata": {},
     "output_type": "execute_result"
    }
   ],
   "source": [
    "import pandas as pd\n",
    "\n",
    "ruta='C:/Users/chilp/Desktop/SEMESTRES/SEXTO_SEMESTRE/hr.csv'\n",
    "info2=pd.read_csv(ruta,sep=',')\n",
    "info2"
   ]
  },
  {
   "cell_type": "code",
   "execution_count": null,
   "metadata": {},
   "outputs": [],
   "source": []
  }
 ],
 "metadata": {
  "kernelspec": {
   "display_name": "Python 3",
   "language": "python",
   "name": "python3"
  },
  "language_info": {
   "codemirror_mode": {
    "name": "ipython",
    "version": 3
   },
   "file_extension": ".py",
   "mimetype": "text/x-python",
   "name": "python",
   "nbconvert_exporter": "python",
   "pygments_lexer": "ipython3",
   "version": "3.7.6"
  }
 },
 "nbformat": 4,
 "nbformat_minor": 4
}
